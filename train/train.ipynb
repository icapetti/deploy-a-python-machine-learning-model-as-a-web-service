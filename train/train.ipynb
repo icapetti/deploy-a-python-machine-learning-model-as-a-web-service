{
 "metadata": {
  "language_info": {
   "codemirror_mode": {
    "name": "ipython",
    "version": 3
   },
   "file_extension": ".py",
   "mimetype": "text/x-python",
   "name": "python",
   "nbconvert_exporter": "python",
   "pygments_lexer": "ipython3",
   "version": "3.8.5-final"
  },
  "orig_nbformat": 2,
  "kernelspec": {
   "name": "python3",
   "display_name": "Python 3.8.5 64-bit",
   "metadata": {
    "interpreter": {
     "hash": "31f2aee4e71d21fbe5cf8b01ff0e069b9275f58929596ceb00d14d90e3e16cd6"
    }
   }
  }
 },
 "nbformat": 4,
 "nbformat_minor": 2,
 "cells": [
  {
   "cell_type": "code",
   "execution_count": 1,
   "metadata": {},
   "outputs": [
    {
     "output_type": "execute_result",
     "data": {
      "text/plain": [
       "   Unnamed: 0  Independent Variable  Dependent Variable\n",
       "0           0                  -5.0           -7.540533\n",
       "1           1                  -4.9           -7.749487\n",
       "2           2                  -4.8           -8.825947\n",
       "3           3                  -4.7           -9.048968\n",
       "4           4                  -4.6           -9.998027"
      ],
      "text/html": "<div>\n<style scoped>\n    .dataframe tbody tr th:only-of-type {\n        vertical-align: middle;\n    }\n\n    .dataframe tbody tr th {\n        vertical-align: top;\n    }\n\n    .dataframe thead th {\n        text-align: right;\n    }\n</style>\n<table border=\"1\" class=\"dataframe\">\n  <thead>\n    <tr style=\"text-align: right;\">\n      <th></th>\n      <th>Unnamed: 0</th>\n      <th>Independent Variable</th>\n      <th>Dependent Variable</th>\n    </tr>\n  </thead>\n  <tbody>\n    <tr>\n      <th>0</th>\n      <td>0</td>\n      <td>-5.0</td>\n      <td>-7.540533</td>\n    </tr>\n    <tr>\n      <th>1</th>\n      <td>1</td>\n      <td>-4.9</td>\n      <td>-7.749487</td>\n    </tr>\n    <tr>\n      <th>2</th>\n      <td>2</td>\n      <td>-4.8</td>\n      <td>-8.825947</td>\n    </tr>\n    <tr>\n      <th>3</th>\n      <td>3</td>\n      <td>-4.7</td>\n      <td>-9.048968</td>\n    </tr>\n    <tr>\n      <th>4</th>\n      <td>4</td>\n      <td>-4.6</td>\n      <td>-9.998027</td>\n    </tr>\n  </tbody>\n</table>\n</div>"
     },
     "metadata": {},
     "execution_count": 1
    }
   ],
   "source": [
    "# Import and view the data\n",
    "import pandas as pd\n",
    "\n",
    "df = pd.read_csv('data.csv')\n",
    "df.head()"
   ]
  },
  {
   "cell_type": "code",
   "execution_count": 3,
   "metadata": {},
   "outputs": [
    {
     "output_type": "execute_result",
     "data": {
      "text/plain": [
       "LinearRegression()"
      ]
     },
     "metadata": {},
     "execution_count": 3
    }
   ],
   "source": [
    "# Use the SciKit model to train the model\n",
    "from sklearn.linear_model import LinearRegression\n",
    "import numpy as np\n",
    "\n",
    "lm = LinearRegression()\n",
    "X = np.asanyarray(df[['Independent Variable']])\n",
    "Y = np.asanyarray(df[['Dependent Variable']])\n",
    "lm.fit(X, Y)"
   ]
  },
  {
   "cell_type": "code",
   "execution_count": 4,
   "metadata": {},
   "outputs": [
    {
     "output_type": "execute_result",
     "data": {
      "text/plain": [
       "array([[-1.06377878],\n",
       "       [ 2.98674409],\n",
       "       [11.08778982]])"
      ]
     },
     "metadata": {},
     "execution_count": 4
    }
   ],
   "source": [
    "# After the model has been trained, you look at some predictions by using the lm.predict() function\n",
    "lm.predict([[-2], [0], [4]])"
   ]
  },
  {
   "cell_type": "code",
   "execution_count": null,
   "metadata": {},
   "outputs": [],
   "source": [
    "# Use pickle to export our model object as a binary, which can be used by the web service\n",
    "import pickle\n",
    "\n",
    "pickle.dump(lm, open(\"../deploy/linearmodel.pkl\",\"wb\"))"
   ]
  }
 ]
}